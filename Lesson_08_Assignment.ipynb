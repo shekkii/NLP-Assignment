{
 "cells": [
  {
   "cell_type": "code",
   "execution_count": 1,
   "metadata": {},
   "outputs": [],
   "source": [
    "import jieba\n",
    "import re\n",
    "from tqdm import tqdm\n",
    "import numpy as np\n",
    "import pandas as pd\n",
    "import matplotlib.pyplot as plt\n",
    "from sklearn.feature_extraction.text import TfidfVectorizer"
   ]
  },
  {
   "cell_type": "code",
   "execution_count": 2,
   "metadata": {},
   "outputs": [],
   "source": [
    "news = pd.read_csv('F:\\wiki20190720\\data\\sqlResult_1558435.csv',encoding='gb18030')"
   ]
  },
  {
   "cell_type": "code",
   "execution_count": 3,
   "metadata": {},
   "outputs": [
    {
     "data": {
      "text/plain": [
       "89611"
      ]
     },
     "execution_count": 3,
     "metadata": {},
     "output_type": "execute_result"
    }
   ],
   "source": [
    "len(news)"
   ]
  },
  {
   "cell_type": "code",
   "execution_count": 17,
   "metadata": {},
   "outputs": [],
   "source": [
    "news_1 = news.dropna(subset=['source', 'content'])"
   ]
  },
  {
   "cell_type": "code",
   "execution_count": 15,
   "metadata": {},
   "outputs": [],
   "source": [
    "def judgement(words):\n",
    "    if words[\"source\"]=='新华社'or words[\"source\"]=='新华网' : #第7次作业时发现除了新华社以外有时候还会标记成新华网，都是新华社的新闻\n",
    "            judge = 1\n",
    "    else:judge = 0\n",
    "    return pd.Series([judge, words['content']], index=['y', 'content'])"
   ]
  },
  {
   "cell_type": "code",
   "execution_count": 18,
   "metadata": {},
   "outputs": [],
   "source": [
    "news_list = news_1.apply(judgement,axis=1)"
   ]
  },
  {
   "cell_type": "code",
   "execution_count": 19,
   "metadata": {},
   "outputs": [
    {
     "data": {
      "text/html": [
       "<div>\n",
       "<style scoped>\n",
       "    .dataframe tbody tr th:only-of-type {\n",
       "        vertical-align: middle;\n",
       "    }\n",
       "\n",
       "    .dataframe tbody tr th {\n",
       "        vertical-align: top;\n",
       "    }\n",
       "\n",
       "    .dataframe thead th {\n",
       "        text-align: right;\n",
       "    }\n",
       "</style>\n",
       "<table border=\"1\" class=\"dataframe\">\n",
       "  <thead>\n",
       "    <tr style=\"text-align: right;\">\n",
       "      <th></th>\n",
       "      <th>y</th>\n",
       "      <th>content</th>\n",
       "    </tr>\n",
       "  </thead>\n",
       "  <tbody>\n",
       "    <tr>\n",
       "      <th>0</th>\n",
       "      <td>0</td>\n",
       "      <td>此外，自本周（6月12日）起，除小米手机6等15款机型外，其余机型已暂停更新发布（含开发版/...</td>\n",
       "    </tr>\n",
       "    <tr>\n",
       "      <th>1</th>\n",
       "      <td>0</td>\n",
       "      <td>骁龙835作为唯一通过Windows 10桌面平台认证的ARM处理器，高通强调，不会因为只考...</td>\n",
       "    </tr>\n",
       "    <tr>\n",
       "      <th>2</th>\n",
       "      <td>0</td>\n",
       "      <td>此前的一加3T搭载的是3400mAh电池，DashCharge快充规格为5V/4A。\\r\\n...</td>\n",
       "    </tr>\n",
       "    <tr>\n",
       "      <th>3</th>\n",
       "      <td>1</td>\n",
       "      <td>这是6月18日在葡萄牙中部大佩德罗冈地区拍摄的被森林大火烧毁的汽车。新华社记者张立云摄\\r\\n</td>\n",
       "    </tr>\n",
       "    <tr>\n",
       "      <th>4</th>\n",
       "      <td>0</td>\n",
       "      <td>（原标题：44岁女子跑深圳约会网友被拒，暴雨中裸身奔走……）\\r\\n@深圳交警微博称：昨日清...</td>\n",
       "    </tr>\n",
       "    <tr>\n",
       "      <th>5</th>\n",
       "      <td>0</td>\n",
       "      <td>受到A股被纳入MSCI指数的利好消息刺激，A股市场从周三开始再度上演龙马行情，周四上午金...</td>\n",
       "    </tr>\n",
       "    <tr>\n",
       "      <th>6</th>\n",
       "      <td>0</td>\n",
       "      <td>虽然至今夏普智能手机在市场上无法排得上号，已经完全没落，并于 2013 年退出中国市场，但是...</td>\n",
       "    </tr>\n",
       "    <tr>\n",
       "      <th>7</th>\n",
       "      <td>0</td>\n",
       "      <td>沙漠雄鹰：震荡有利消化套牢筹码\\r\\n　　周四开盘上证50在银行券商大蓝筹带动下一度涨近...</td>\n",
       "    </tr>\n",
       "    <tr>\n",
       "      <th>8</th>\n",
       "      <td>0</td>\n",
       "      <td>（原标题：武汉警方一下子抓了808人，还都是俊男靓女！原来他们每天偷偷摸摸干这事！）\\r\\n...</td>\n",
       "    </tr>\n",
       "    <tr>\n",
       "      <th>9</th>\n",
       "      <td>0</td>\n",
       "      <td>6月21日，A股纳入MSCI指数尘埃落定，但当天被寄予厚望的券商股并未扛起反弹大旗。22...</td>\n",
       "    </tr>\n",
       "    <tr>\n",
       "      <th>10</th>\n",
       "      <td>0</td>\n",
       "      <td>证券时报网（www.stcn.com）06月23日讯\\r\\n　　据上证报道，6月初以来，...</td>\n",
       "    </tr>\n",
       "    <tr>\n",
       "      <th>11</th>\n",
       "      <td>0</td>\n",
       "      <td>?\\r\\n　　巨丰早评：市场将再次探底\\r\\n　　【巨丰观点】\\r\\n　　周四大盘冲高回落，...</td>\n",
       "    </tr>\n",
       "    <tr>\n",
       "      <th>12</th>\n",
       "      <td>0</td>\n",
       "      <td>中新网6月19日电 据外媒报道，美国底特律一名男子1976年因为一根头发被定谋杀罪，监禁41...</td>\n",
       "    </tr>\n",
       "    <tr>\n",
       "      <th>13</th>\n",
       "      <td>0</td>\n",
       "      <td>曹先生：风格转换前的阵痛\\r\\n　　今日早盘两地低开，之后一度震荡走高，领涨的仍然是上证...</td>\n",
       "    </tr>\n",
       "    <tr>\n",
       "      <th>14</th>\n",
       "      <td>0</td>\n",
       "      <td>6月21日，MSCI在官网发布公告称，从明年6月起将中国A股纳入MSCI新兴市场指数和MSC...</td>\n",
       "    </tr>\n",
       "    <tr>\n",
       "      <th>15</th>\n",
       "      <td>0</td>\n",
       "      <td>中国证券网讯（记者 费天元）沪深两市周五临近午盘出现快速跳水，沪指连续跌穿5日、10日及...</td>\n",
       "    </tr>\n",
       "    <tr>\n",
       "      <th>16</th>\n",
       "      <td>0</td>\n",
       "      <td>九成以上的源包用逐位对应的方式构建，未来版本的 Debian 还将提供验证包的工具和元数据；...</td>\n",
       "    </tr>\n",
       "    <tr>\n",
       "      <th>17</th>\n",
       "      <td>1</td>\n",
       "      <td>国歌法草案首次提请最高立法机关审议\\r\\n点击图片进入下一页\\r\\n新闻：十二届全国人大常委...</td>\n",
       "    </tr>\n",
       "    <tr>\n",
       "      <th>18</th>\n",
       "      <td>0</td>\n",
       "      <td>中证网讯 （本报记者 张怡）今日，三板做市指数继续低开下行，盘中最低触及1057.91点...</td>\n",
       "    </tr>\n",
       "    <tr>\n",
       "      <th>19</th>\n",
       "      <td>0</td>\n",
       "      <td>提示声明：\\r\\n　　本文涉及的行业及个股分析来源于券商研究报告，仅为分析人士对该行业及...</td>\n",
       "    </tr>\n",
       "    <tr>\n",
       "      <th>20</th>\n",
       "      <td>0</td>\n",
       "      <td>原标题：叙利亚被“袭机”事件惹怒俄罗斯 警告将瞄准美战机\\r\\n　　海外网6月19日电 ...</td>\n",
       "    </tr>\n",
       "    <tr>\n",
       "      <th>21</th>\n",
       "      <td>0</td>\n",
       "      <td>提示声明：\\r\\n　　本文涉及的行业及个股分析来源于券商研究报告，仅为分析人士对该行业及...</td>\n",
       "    </tr>\n",
       "    <tr>\n",
       "      <th>22</th>\n",
       "      <td>0</td>\n",
       "      <td>就在这几天，一位微博名为“摩卡 RQ ”的手机、芯片、移动互联网三界知名独立评论人爆料称，O...</td>\n",
       "    </tr>\n",
       "    <tr>\n",
       "      <th>23</th>\n",
       "      <td>0</td>\n",
       "      <td>中证网讯 （本报记者 张怡）与此前两日蓝筹股强势格局不同，周五，A股市场主要指数低开之后...</td>\n",
       "    </tr>\n",
       "    <tr>\n",
       "      <th>24</th>\n",
       "      <td>0</td>\n",
       "      <td>北京时间6月20日，江苏苏宁足球俱乐部发布了足协杯第四轮江苏苏宁易购队主场对阵河南建业队的官...</td>\n",
       "    </tr>\n",
       "    <tr>\n",
       "      <th>25</th>\n",
       "      <td>1</td>\n",
       "      <td>当地时间2017年6月17日，土耳其马尼萨省，在土耳其第1步兵训练大队司令部军营，590名土...</td>\n",
       "    </tr>\n",
       "    <tr>\n",
       "      <th>26</th>\n",
       "      <td>0</td>\n",
       "      <td>今年3月份，王劲从百度自动驾驶事业部任上离职，随后创办景驰科技。在随后的日子里，景驰很快组建...</td>\n",
       "    </tr>\n",
       "    <tr>\n",
       "      <th>27</th>\n",
       "      <td>1</td>\n",
       "      <td>英国与欧盟的“脱欧”谈判于19日正式开始。然而此时，英国首相特雷莎·梅正面临着空前的政治压力...</td>\n",
       "    </tr>\n",
       "    <tr>\n",
       "      <th>28</th>\n",
       "      <td>0</td>\n",
       "      <td>中超联赛第13轮比赛已经全部结束，这轮比赛中最让人觉得结果有些出乎意料的，莫过于卡佩罗执教江...</td>\n",
       "    </tr>\n",
       "    <tr>\n",
       "      <th>29</th>\n",
       "      <td>0</td>\n",
       "      <td>文章导读： 供应商围堵追债、20多位高管离职、上千人被裁员、孤注一掷史上最大规模的降价…...</td>\n",
       "    </tr>\n",
       "    <tr>\n",
       "      <th>...</th>\n",
       "      <td>...</td>\n",
       "      <td>...</td>\n",
       "    </tr>\n",
       "    <tr>\n",
       "      <th>89581</th>\n",
       "      <td>1</td>\n",
       "      <td>新华社照片，外代，2017年6月7日\\n（外代二线）足球——世预赛：葡萄牙备战\\n6月6日，...</td>\n",
       "    </tr>\n",
       "    <tr>\n",
       "      <th>89582</th>\n",
       "      <td>1</td>\n",
       "      <td>新华社照片，外代，2017年6月7日\\n（外代二线）足球——世预赛：葡萄牙备战\\n6月6日，...</td>\n",
       "    </tr>\n",
       "    <tr>\n",
       "      <th>89583</th>\n",
       "      <td>1</td>\n",
       "      <td>新华社照片，外代，2017年6月7日\\n（外代二线）足球——世预赛：葡萄牙备战\\n6月6日，...</td>\n",
       "    </tr>\n",
       "    <tr>\n",
       "      <th>89584</th>\n",
       "      <td>1</td>\n",
       "      <td>新华社照片，外代，2017年6月7日\\n（外代二线）足球——世预赛：葡萄牙备战\\n6月6日，...</td>\n",
       "    </tr>\n",
       "    <tr>\n",
       "      <th>89585</th>\n",
       "      <td>1</td>\n",
       "      <td>新华社照片，外代，2017年6月7日\\n（外代二线）足球——世预赛：葡萄牙备战\\n6月6日，...</td>\n",
       "    </tr>\n",
       "    <tr>\n",
       "      <th>89586</th>\n",
       "      <td>1</td>\n",
       "      <td>新华社照片，外代，2017年6月7日\\n（外代二线）足球——世预赛：葡萄牙备战\\n6月6日，...</td>\n",
       "    </tr>\n",
       "    <tr>\n",
       "      <th>89587</th>\n",
       "      <td>1</td>\n",
       "      <td>新华社照片，外代，2017年6月7日\\n（外代二线）蚕丝生产\\n6月6日，在印度特里普拉邦特...</td>\n",
       "    </tr>\n",
       "    <tr>\n",
       "      <th>89588</th>\n",
       "      <td>1</td>\n",
       "      <td>新华社照片，外代，2017年6月7日\\n（外代二线）蚕丝生产\\n6月6日，在印度特里普拉邦特...</td>\n",
       "    </tr>\n",
       "    <tr>\n",
       "      <th>89589</th>\n",
       "      <td>1</td>\n",
       "      <td>新华社照片，外代，2017年6月7日\\n（外代二线）蚕丝生产\\n5月30日，在印度特里普拉邦...</td>\n",
       "    </tr>\n",
       "    <tr>\n",
       "      <th>89590</th>\n",
       "      <td>1</td>\n",
       "      <td>新华社照片，外代，2017年6月7日\\n（外代二线）蚕丝生产\\n6月6日，在印度特里普拉邦特...</td>\n",
       "    </tr>\n",
       "    <tr>\n",
       "      <th>89591</th>\n",
       "      <td>1</td>\n",
       "      <td>新华社照片，外代，2017年6月7日\\n（外代二线）蚕丝生产\\n5月30日，在印度特里普拉邦...</td>\n",
       "    </tr>\n",
       "    <tr>\n",
       "      <th>89592</th>\n",
       "      <td>1</td>\n",
       "      <td>\\n\\n2017年4月27日，在首尔光化门广场，民众在集会上手举反“萨德”标语。（新华社记者...</td>\n",
       "    </tr>\n",
       "    <tr>\n",
       "      <th>89593</th>\n",
       "      <td>1</td>\n",
       "      <td>\\n新华社巴格达6月6日电（记者魏玉栋　程帅朋）伊拉克西部安巴尔省一处市场6日晚发生自杀式爆...</td>\n",
       "    </tr>\n",
       "    <tr>\n",
       "      <th>89594</th>\n",
       "      <td>1</td>\n",
       "      <td>新华社照片，外代，2017年6月7日\\n（外代二线）足球——国际友谊赛：德国平丹麦\\n6月6...</td>\n",
       "    </tr>\n",
       "    <tr>\n",
       "      <th>89595</th>\n",
       "      <td>1</td>\n",
       "      <td>新华社照片，外代，2017年6月7日\\n（外代二线）足球——国际友谊赛：德国平丹麦\\n6月6...</td>\n",
       "    </tr>\n",
       "    <tr>\n",
       "      <th>89596</th>\n",
       "      <td>1</td>\n",
       "      <td>新华社照片，外代，2017年6月7日\\n（外代二线）足球——国际友谊赛：德国平丹麦\\n6月6...</td>\n",
       "    </tr>\n",
       "    <tr>\n",
       "      <th>89597</th>\n",
       "      <td>1</td>\n",
       "      <td>新华社照片，外代，2017年6月7日\\n（外代二线）足球——国际友谊赛：德国平丹麦\\n6月6...</td>\n",
       "    </tr>\n",
       "    <tr>\n",
       "      <th>89598</th>\n",
       "      <td>1</td>\n",
       "      <td>新华社照片，外代，2017年6月7日\\n（外代二线）足球——国际友谊赛：德国平丹麦\\n6月6...</td>\n",
       "    </tr>\n",
       "    <tr>\n",
       "      <th>89599</th>\n",
       "      <td>1</td>\n",
       "      <td>新华社照片，外代，2017年6月7日\\n（外代二线）足球——国际友谊赛：德国平丹麦\\n6月6...</td>\n",
       "    </tr>\n",
       "    <tr>\n",
       "      <th>89600</th>\n",
       "      <td>1</td>\n",
       "      <td>新华社照片，外代，2017年6月7日\\n（外代二线）足球——国际友谊赛：德国平丹麦\\n6月6...</td>\n",
       "    </tr>\n",
       "    <tr>\n",
       "      <th>89601</th>\n",
       "      <td>1</td>\n",
       "      <td>新华社照片，外代，2017年6月7日\\n（外代二线）足球——国际友谊赛：德国平丹麦\\n6月6...</td>\n",
       "    </tr>\n",
       "    <tr>\n",
       "      <th>89602</th>\n",
       "      <td>1</td>\n",
       "      <td>新华社照片，外代，2017年6月7日\\n（外代二线）足球——国际友谊赛：德国平丹麦\\n6月6...</td>\n",
       "    </tr>\n",
       "    <tr>\n",
       "      <th>89603</th>\n",
       "      <td>1</td>\n",
       "      <td>新华社照片，北京，2017年6月7日\\n电影《血战湘江》举行清华大学巡映活动\\n6月6日，电...</td>\n",
       "    </tr>\n",
       "    <tr>\n",
       "      <th>89604</th>\n",
       "      <td>1</td>\n",
       "      <td>新华社照片，北京，2017年6月7日\\n电影《血战湘江》举行清华大学巡映活动\\n6月6日，清...</td>\n",
       "    </tr>\n",
       "    <tr>\n",
       "      <th>89605</th>\n",
       "      <td>1</td>\n",
       "      <td>新华社照片，北京，2017年6月7日\\n电影《血战湘江》举行清华大学巡映活动\\n6月6日，电...</td>\n",
       "    </tr>\n",
       "    <tr>\n",
       "      <th>89606</th>\n",
       "      <td>1</td>\n",
       "      <td>新华社照片，多伦多，2017年6月7日\\n（体育）（2）冰球——国家女子冰球队海外选秀在多伦...</td>\n",
       "    </tr>\n",
       "    <tr>\n",
       "      <th>89607</th>\n",
       "      <td>1</td>\n",
       "      <td>新华社兰州6月3日电（王衡、徐丹）记者从甘肃省交通运输厅获悉，甘肃近日集中开建高速公路、普通...</td>\n",
       "    </tr>\n",
       "    <tr>\n",
       "      <th>89608</th>\n",
       "      <td>1</td>\n",
       "      <td>\\n\\n2017年5月29日，在法国巴黎郊外的凡尔赛宫，法国总统马克龙出席新闻发布会。（新华...</td>\n",
       "    </tr>\n",
       "    <tr>\n",
       "      <th>89609</th>\n",
       "      <td>1</td>\n",
       "      <td>\\n\\n2017年5月25日，在美国马萨诸塞州剑桥市，哈佛大学毕业生在毕业典礼上欢呼。（新华...</td>\n",
       "    </tr>\n",
       "    <tr>\n",
       "      <th>89610</th>\n",
       "      <td>1</td>\n",
       "      <td>新华社德国杜塞尔多夫６月６日电题：乒乓女球迷　\\n　　新华社记者王子江、张寒\\n　　熊老...</td>\n",
       "    </tr>\n",
       "  </tbody>\n",
       "</table>\n",
       "<p>87052 rows × 2 columns</p>\n",
       "</div>"
      ],
      "text/plain": [
       "       y                                            content\n",
       "0      0  此外，自本周（6月12日）起，除小米手机6等15款机型外，其余机型已暂停更新发布（含开发版/...\n",
       "1      0  骁龙835作为唯一通过Windows 10桌面平台认证的ARM处理器，高通强调，不会因为只考...\n",
       "2      0  此前的一加3T搭载的是3400mAh电池，DashCharge快充规格为5V/4A。\\r\\n...\n",
       "3      1    这是6月18日在葡萄牙中部大佩德罗冈地区拍摄的被森林大火烧毁的汽车。新华社记者张立云摄\\r\\n\n",
       "4      0  （原标题：44岁女子跑深圳约会网友被拒，暴雨中裸身奔走……）\\r\\n@深圳交警微博称：昨日清...\n",
       "5      0  　　受到A股被纳入MSCI指数的利好消息刺激，A股市场从周三开始再度上演龙马行情，周四上午金...\n",
       "6      0  虽然至今夏普智能手机在市场上无法排得上号，已经完全没落，并于 2013 年退出中国市场，但是...\n",
       "7      0  　　沙漠雄鹰：震荡有利消化套牢筹码\\r\\n　　周四开盘上证50在银行券商大蓝筹带动下一度涨近...\n",
       "8      0  （原标题：武汉警方一下子抓了808人，还都是俊男靓女！原来他们每天偷偷摸摸干这事！）\\r\\n...\n",
       "9      0  　　6月21日，A股纳入MSCI指数尘埃落定，但当天被寄予厚望的券商股并未扛起反弹大旗。22...\n",
       "10     0  　　证券时报网（www.stcn.com）06月23日讯\\r\\n　　据上证报道，6月初以来，...\n",
       "11     0  ?\\r\\n　　巨丰早评：市场将再次探底\\r\\n　　【巨丰观点】\\r\\n　　周四大盘冲高回落，...\n",
       "12     0  中新网6月19日电 据外媒报道，美国底特律一名男子1976年因为一根头发被定谋杀罪，监禁41...\n",
       "13     0  　　曹先生：风格转换前的阵痛\\r\\n　　今日早盘两地低开，之后一度震荡走高，领涨的仍然是上证...\n",
       "14     0  6月21日，MSCI在官网发布公告称，从明年6月起将中国A股纳入MSCI新兴市场指数和MSC...\n",
       "15     0  　　中国证券网讯（记者 费天元）沪深两市周五临近午盘出现快速跳水，沪指连续跌穿5日、10日及...\n",
       "16     0  九成以上的源包用逐位对应的方式构建，未来版本的 Debian 还将提供验证包的工具和元数据；...\n",
       "17     1  国歌法草案首次提请最高立法机关审议\\r\\n点击图片进入下一页\\r\\n新闻：十二届全国人大常委...\n",
       "18     0  　　中证网讯 （本报记者 张怡）今日，三板做市指数继续低开下行，盘中最低触及1057.91点...\n",
       "19     0  　　提示声明：\\r\\n　　本文涉及的行业及个股分析来源于券商研究报告，仅为分析人士对该行业及...\n",
       "20     0  　　原标题：叙利亚被“袭机”事件惹怒俄罗斯 警告将瞄准美战机\\r\\n　　海外网6月19日电 ...\n",
       "21     0  　　提示声明：\\r\\n　　本文涉及的行业及个股分析来源于券商研究报告，仅为分析人士对该行业及...\n",
       "22     0  就在这几天，一位微博名为“摩卡 RQ ”的手机、芯片、移动互联网三界知名独立评论人爆料称，O...\n",
       "23     0  　　中证网讯 （本报记者 张怡）与此前两日蓝筹股强势格局不同，周五，A股市场主要指数低开之后...\n",
       "24     0  北京时间6月20日，江苏苏宁足球俱乐部发布了足协杯第四轮江苏苏宁易购队主场对阵河南建业队的官...\n",
       "25     1  当地时间2017年6月17日，土耳其马尼萨省，在土耳其第1步兵训练大队司令部军营，590名土...\n",
       "26     0  今年3月份，王劲从百度自动驾驶事业部任上离职，随后创办景驰科技。在随后的日子里，景驰很快组建...\n",
       "27     1  英国与欧盟的“脱欧”谈判于19日正式开始。然而此时，英国首相特雷莎·梅正面临着空前的政治压力...\n",
       "28     0  中超联赛第13轮比赛已经全部结束，这轮比赛中最让人觉得结果有些出乎意料的，莫过于卡佩罗执教江...\n",
       "29     0  　　文章导读： 供应商围堵追债、20多位高管离职、上千人被裁员、孤注一掷史上最大规模的降价…...\n",
       "...   ..                                                ...\n",
       "89581  1  新华社照片，外代，2017年6月7日\\n（外代二线）足球——世预赛：葡萄牙备战\\n6月6日，...\n",
       "89582  1  新华社照片，外代，2017年6月7日\\n（外代二线）足球——世预赛：葡萄牙备战\\n6月6日，...\n",
       "89583  1  新华社照片，外代，2017年6月7日\\n（外代二线）足球——世预赛：葡萄牙备战\\n6月6日，...\n",
       "89584  1  新华社照片，外代，2017年6月7日\\n（外代二线）足球——世预赛：葡萄牙备战\\n6月6日，...\n",
       "89585  1  新华社照片，外代，2017年6月7日\\n（外代二线）足球——世预赛：葡萄牙备战\\n6月6日，...\n",
       "89586  1  新华社照片，外代，2017年6月7日\\n（外代二线）足球——世预赛：葡萄牙备战\\n6月6日，...\n",
       "89587  1  新华社照片，外代，2017年6月7日\\n（外代二线）蚕丝生产\\n6月6日，在印度特里普拉邦特...\n",
       "89588  1  新华社照片，外代，2017年6月7日\\n（外代二线）蚕丝生产\\n6月6日，在印度特里普拉邦特...\n",
       "89589  1  新华社照片，外代，2017年6月7日\\n（外代二线）蚕丝生产\\n5月30日，在印度特里普拉邦...\n",
       "89590  1  新华社照片，外代，2017年6月7日\\n（外代二线）蚕丝生产\\n6月6日，在印度特里普拉邦特...\n",
       "89591  1  新华社照片，外代，2017年6月7日\\n（外代二线）蚕丝生产\\n5月30日，在印度特里普拉邦...\n",
       "89592  1  \\n\\n2017年4月27日，在首尔光化门广场，民众在集会上手举反“萨德”标语。（新华社记者...\n",
       "89593  1  \\n新华社巴格达6月6日电（记者魏玉栋　程帅朋）伊拉克西部安巴尔省一处市场6日晚发生自杀式爆...\n",
       "89594  1  新华社照片，外代，2017年6月7日\\n（外代二线）足球——国际友谊赛：德国平丹麦\\n6月6...\n",
       "89595  1  新华社照片，外代，2017年6月7日\\n（外代二线）足球——国际友谊赛：德国平丹麦\\n6月6...\n",
       "89596  1  新华社照片，外代，2017年6月7日\\n（外代二线）足球——国际友谊赛：德国平丹麦\\n6月6...\n",
       "89597  1  新华社照片，外代，2017年6月7日\\n（外代二线）足球——国际友谊赛：德国平丹麦\\n6月6...\n",
       "89598  1  新华社照片，外代，2017年6月7日\\n（外代二线）足球——国际友谊赛：德国平丹麦\\n6月6...\n",
       "89599  1  新华社照片，外代，2017年6月7日\\n（外代二线）足球——国际友谊赛：德国平丹麦\\n6月6...\n",
       "89600  1  新华社照片，外代，2017年6月7日\\n（外代二线）足球——国际友谊赛：德国平丹麦\\n6月6...\n",
       "89601  1  新华社照片，外代，2017年6月7日\\n（外代二线）足球——国际友谊赛：德国平丹麦\\n6月6...\n",
       "89602  1  新华社照片，外代，2017年6月7日\\n（外代二线）足球——国际友谊赛：德国平丹麦\\n6月6...\n",
       "89603  1  新华社照片，北京，2017年6月7日\\n电影《血战湘江》举行清华大学巡映活动\\n6月6日，电...\n",
       "89604  1  新华社照片，北京，2017年6月7日\\n电影《血战湘江》举行清华大学巡映活动\\n6月6日，清...\n",
       "89605  1  新华社照片，北京，2017年6月7日\\n电影《血战湘江》举行清华大学巡映活动\\n6月6日，电...\n",
       "89606  1  新华社照片，多伦多，2017年6月7日\\n（体育）（2）冰球——国家女子冰球队海外选秀在多伦...\n",
       "89607  1  新华社兰州6月3日电（王衡、徐丹）记者从甘肃省交通运输厅获悉，甘肃近日集中开建高速公路、普通...\n",
       "89608  1  \\n\\n2017年5月29日，在法国巴黎郊外的凡尔赛宫，法国总统马克龙出席新闻发布会。（新华...\n",
       "89609  1  \\n\\n2017年5月25日，在美国马萨诸塞州剑桥市，哈佛大学毕业生在毕业典礼上欢呼。（新华...\n",
       "89610  1  　　新华社德国杜塞尔多夫６月６日电题：乒乓女球迷　\\n　　新华社记者王子江、张寒\\n　　熊老...\n",
       "\n",
       "[87052 rows x 2 columns]"
      ]
     },
     "execution_count": 19,
     "metadata": {},
     "output_type": "execute_result"
    }
   ],
   "source": [
    "news_list"
   ]
  },
  {
   "cell_type": "code",
   "execution_count": 20,
   "metadata": {},
   "outputs": [],
   "source": [
    "corpus = news_list.content.tolist()"
   ]
  },
  {
   "cell_type": "code",
   "execution_count": 21,
   "metadata": {},
   "outputs": [],
   "source": [
    "y_value = news_list.y.values.astype(np.int)"
   ]
  },
  {
   "cell_type": "code",
   "execution_count": 22,
   "metadata": {},
   "outputs": [
    {
     "data": {
      "text/plain": [
       "array([0, 0, 0, ..., 1, 1, 1])"
      ]
     },
     "execution_count": 22,
     "metadata": {},
     "output_type": "execute_result"
    }
   ],
   "source": [
    "y_value"
   ]
  },
  {
   "cell_type": "code",
   "execution_count": 23,
   "metadata": {},
   "outputs": [
    {
     "name": "stderr",
     "output_type": "stream",
     "text": [
      "  0%|                                                | 0/87052 [00:00<?, ?it/s]Building prefix dict from the default dictionary ...\n",
      "Loading model from cache C:\\Users\\wu\\AppData\\Local\\Temp\\jieba.cache\n",
      "Loading model cost 1.738 seconds.\n",
      "Prefix dict has been built succesfully.\n",
      "100%|███████████████████████████████████| 87052/87052 [05:35<00:00, 259.29it/s]\n"
     ]
    },
    {
     "data": {
      "text/plain": [
       "87052"
      ]
     },
     "execution_count": 23,
     "metadata": {},
     "output_type": "execute_result"
    }
   ],
   "source": [
    "words_cut = []\n",
    "mask = []\n",
    "for sentence in tqdm(corpus):\n",
    "    if not isinstance(sentence, str):\n",
    "        mask.append(False)\n",
    "        continue\n",
    "    mask.append(True)\n",
    "    sentence = ''.join(re.findall(r'\\w+', sentence))\n",
    "    words_cut.append(' '.join(jieba.cut(sentence)))\n",
    "len(words_cut)"
   ]
  },
  {
   "cell_type": "code",
   "execution_count": 24,
   "metadata": {},
   "outputs": [
    {
     "data": {
      "text/plain": [
       "'此外 自 本周 6 月 12 日起 除 小米 手机 6 等 15 款 机型 外 其余 机型 已 暂停 更新 发布 含 开发 版 体验版 内测 稳定版 暂不受 影响 以 确保 工程师 可以 集中 全部 精力 进行 系统优化 工作 有人 猜测 这 也 是 将 精力 主要 用到 MIUI9 的 研发 之中 MIUI8 去年 5 月 发布 距今已有 一年 有余 也 是 时候 更新换代 了 当然 关于 MIUI9 的 确切 信息 我们 还是 等待 官方消息'"
      ]
     },
     "execution_count": 24,
     "metadata": {},
     "output_type": "execute_result"
    }
   ],
   "source": [
    "words_cut[0]"
   ]
  },
  {
   "cell_type": "code",
   "execution_count": 25,
   "metadata": {},
   "outputs": [],
   "source": [
    "y_value = y_value[mask]"
   ]
  },
  {
   "cell_type": "code",
   "execution_count": 26,
   "metadata": {},
   "outputs": [
    {
     "data": {
      "text/plain": [
       "array([0, 0, 0, ..., 1, 1, 1])"
      ]
     },
     "execution_count": 26,
     "metadata": {},
     "output_type": "execute_result"
    }
   ],
   "source": [
    "y_value"
   ]
  },
  {
   "cell_type": "markdown",
   "metadata": {},
   "source": [
    "##  使用tfidf进行文本向量化"
   ]
  },
  {
   "cell_type": "code",
   "execution_count": 27,
   "metadata": {},
   "outputs": [],
   "source": [
    "vectorizer = TfidfVectorizer(token_pattern=r\"(?u)\\b\\w+\\b\",max_features=350) \n",
    "#这里pattern是使匹配长度从2变为了1，防止中文中一些一个字的词语被忽略\n",
    "X = vectorizer.fit_transform(words_cut)"
   ]
  },
  {
   "cell_type": "code",
   "execution_count": 28,
   "metadata": {},
   "outputs": [
    {
     "data": {
      "text/plain": [
       "(87052, 350)"
      ]
     },
     "execution_count": 28,
     "metadata": {},
     "output_type": "execute_result"
    }
   ],
   "source": [
    "X.shape"
   ]
  },
  {
   "cell_type": "code",
   "execution_count": 29,
   "metadata": {},
   "outputs": [
    {
     "name": "stderr",
     "output_type": "stream",
     "text": [
      "D:\\Anaconda3\\lib\\site-packages\\sklearn\\ensemble\\weight_boosting.py:29: DeprecationWarning: numpy.core.umath_tests is an internal NumPy module and should not be imported. It will be removed in a future NumPy release.\n",
      "  from numpy.core.umath_tests import inner1d\n"
     ]
    }
   ],
   "source": [
    "from sklearn.model_selection import train_test_split, StratifiedKFold\n",
    "from sklearn.metrics import precision_score, recall_score, f1_score, roc_auc_score\n",
    "\n",
    "from sklearn.svm import SVC\n",
    "from sklearn.ensemble import RandomForestClassifier\n",
    "from sklearn.naive_bayes import GaussianNB"
   ]
  },
  {
   "cell_type": "code",
   "execution_count": 30,
   "metadata": {},
   "outputs": [],
   "source": [
    "y = y_value"
   ]
  },
  {
   "cell_type": "code",
   "execution_count": 31,
   "metadata": {},
   "outputs": [],
   "source": [
    "X_train, X_test, Y_train, Y_test = train_test_split(X.toarray(), y, random_state=42, test_size=0.5)"
   ]
  },
  {
   "cell_type": "markdown",
   "metadata": {},
   "source": [
    "## Bayes"
   ]
  },
  {
   "cell_type": "code",
   "execution_count": 33,
   "metadata": {},
   "outputs": [],
   "source": [
    "x_train,x_test, y_train, y_test = train_test_split(X_train, Y_train, random_state=88, test_size=0.15)"
   ]
  },
  {
   "cell_type": "code",
   "execution_count": 34,
   "metadata": {},
   "outputs": [
    {
     "data": {
      "text/plain": [
       "GaussianNB(priors=None)"
      ]
     },
     "execution_count": 34,
     "metadata": {},
     "output_type": "execute_result"
    }
   ],
   "source": [
    "Bayes = GaussianNB()\n",
    "Bayes.fit(x_train, y_train)"
   ]
  },
  {
   "cell_type": "code",
   "execution_count": 35,
   "metadata": {},
   "outputs": [],
   "source": [
    "y_pred = Bayes.predict(x_test) \n",
    "y_pred_prob = Bayes.predict_proba(x_test)"
   ]
  },
  {
   "cell_type": "code",
   "execution_count": 36,
   "metadata": {},
   "outputs": [
    {
     "data": {
      "text/plain": [
       "0.9897380915913616"
      ]
     },
     "execution_count": 36,
     "metadata": {},
     "output_type": "execute_result"
    }
   ],
   "source": [
    "Bayes.score(x_test,y_test)"
   ]
  },
  {
   "cell_type": "code",
   "execution_count": 37,
   "metadata": {},
   "outputs": [
    {
     "data": {
      "text/plain": [
       "0.9971103178650349"
      ]
     },
     "execution_count": 37,
     "metadata": {},
     "output_type": "execute_result"
    }
   ],
   "source": [
    "precision_score(y_test, y_pred)"
   ]
  },
  {
   "cell_type": "code",
   "execution_count": 38,
   "metadata": {},
   "outputs": [
    {
     "data": {
      "text/plain": [
       "0.9915483434753212"
      ]
     },
     "execution_count": 38,
     "metadata": {},
     "output_type": "execute_result"
    }
   ],
   "source": [
    "recall_score(y_test, y_pred)"
   ]
  },
  {
   "cell_type": "code",
   "execution_count": 39,
   "metadata": {},
   "outputs": [
    {
     "data": {
      "text/plain": [
       "0.9943215526739554"
      ]
     },
     "execution_count": 39,
     "metadata": {},
     "output_type": "execute_result"
    }
   ],
   "source": [
    "f1_score(y_test, y_pred)"
   ]
  },
  {
   "cell_type": "code",
   "execution_count": 40,
   "metadata": {},
   "outputs": [
    {
     "data": {
      "text/plain": [
       "0.9871216332626317"
      ]
     },
     "execution_count": 40,
     "metadata": {},
     "output_type": "execute_result"
    }
   ],
   "source": [
    "roc_auc_score(y_test, y_pred_prob[:, 1])"
   ]
  },
  {
   "cell_type": "markdown",
   "metadata": {},
   "source": [
    "## SVM"
   ]
  },
  {
   "cell_type": "code",
   "execution_count": 42,
   "metadata": {},
   "outputs": [
    {
     "data": {
      "text/plain": [
       "SVC(C=1.0, cache_size=200, class_weight=None, coef0=0.0,\n",
       "  decision_function_shape='ovr', degree=3, gamma='auto', kernel='rbf',\n",
       "  max_iter=-1, probability=False, random_state=None, shrinking=True,\n",
       "  tol=0.001, verbose=False)"
      ]
     },
     "execution_count": 42,
     "metadata": {},
     "output_type": "execute_result"
    }
   ],
   "source": [
    "svm = SVC()\n",
    "svm.fit(x_train, y_train)"
   ]
  },
  {
   "cell_type": "code",
   "execution_count": 43,
   "metadata": {},
   "outputs": [
    {
     "data": {
      "text/plain": [
       "0.9061111962015622"
      ]
     },
     "execution_count": 43,
     "metadata": {},
     "output_type": "execute_result"
    }
   ],
   "source": [
    "svm.score(x_test,y_test)"
   ]
  },
  {
   "cell_type": "code",
   "execution_count": 46,
   "metadata": {},
   "outputs": [],
   "source": [
    "y_pred = svm.predict(x_test) "
   ]
  },
  {
   "cell_type": "code",
   "execution_count": 47,
   "metadata": {},
   "outputs": [
    {
     "data": {
      "text/plain": [
       "0.9061111962015622"
      ]
     },
     "execution_count": 47,
     "metadata": {},
     "output_type": "execute_result"
    }
   ],
   "source": [
    "precision_score(y_test, y_pred)"
   ]
  },
  {
   "cell_type": "code",
   "execution_count": 48,
   "metadata": {},
   "outputs": [
    {
     "data": {
      "text/plain": [
       "1.0"
      ]
     },
     "execution_count": 48,
     "metadata": {},
     "output_type": "execute_result"
    }
   ],
   "source": [
    "recall_score(y_test, y_pred)"
   ]
  },
  {
   "cell_type": "code",
   "execution_count": 49,
   "metadata": {},
   "outputs": [
    {
     "data": {
      "text/plain": [
       "0.9507432703897147"
      ]
     },
     "execution_count": 49,
     "metadata": {},
     "output_type": "execute_result"
    }
   ],
   "source": [
    "f1_score(y_test, y_pred)"
   ]
  },
  {
   "cell_type": "markdown",
   "metadata": {},
   "source": [
    "尝试调整参数class_weight为balanced"
   ]
  },
  {
   "cell_type": "code",
   "execution_count": 53,
   "metadata": {},
   "outputs": [
    {
     "data": {
      "text/plain": [
       "SVC(C=1.0, cache_size=200, class_weight='balanced', coef0=0.0,\n",
       "  decision_function_shape='ovr', degree=3, gamma='auto', kernel='rbf',\n",
       "  max_iter=-1, probability=False, random_state=None, shrinking=True,\n",
       "  tol=0.001, verbose=False)"
      ]
     },
     "execution_count": 53,
     "metadata": {},
     "output_type": "execute_result"
    }
   ],
   "source": [
    "svm = SVC(class_weight = 'balanced')\n",
    "svm.fit(x_train, y_train)"
   ]
  },
  {
   "cell_type": "code",
   "execution_count": 54,
   "metadata": {},
   "outputs": [
    {
     "data": {
      "text/plain": [
       "0.9180578955429621"
      ]
     },
     "execution_count": 54,
     "metadata": {},
     "output_type": "execute_result"
    }
   ],
   "source": [
    "svm.score(x_test,y_test)"
   ]
  },
  {
   "cell_type": "code",
   "execution_count": 55,
   "metadata": {},
   "outputs": [],
   "source": [
    "y_pred = svm.predict(x_test) "
   ]
  },
  {
   "cell_type": "code",
   "execution_count": 56,
   "metadata": {},
   "outputs": [
    {
     "data": {
      "text/plain": [
       "0.9998142299832807"
      ]
     },
     "execution_count": 56,
     "metadata": {},
     "output_type": "execute_result"
    }
   ],
   "source": [
    "precision_score(y_test, y_pred)"
   ]
  },
  {
   "cell_type": "code",
   "execution_count": 57,
   "metadata": {},
   "outputs": [
    {
     "data": {
      "text/plain": [
       "0.90973630831643"
      ]
     },
     "execution_count": 57,
     "metadata": {},
     "output_type": "execute_result"
    }
   ],
   "source": [
    "recall_score(y_test, y_pred)"
   ]
  },
  {
   "cell_type": "code",
   "execution_count": 58,
   "metadata": {},
   "outputs": [
    {
     "data": {
      "text/plain": [
       "0.9526506770510664"
      ]
     },
     "execution_count": 58,
     "metadata": {},
     "output_type": "execute_result"
    }
   ],
   "source": [
    "f1_score(y_test, y_pred)"
   ]
  },
  {
   "cell_type": "markdown",
   "metadata": {},
   "source": [
    "## Random forest"
   ]
  },
  {
   "cell_type": "code",
   "execution_count": 44,
   "metadata": {},
   "outputs": [
    {
     "name": "stderr",
     "output_type": "stream",
     "text": [
      "D:\\Anaconda3\\lib\\site-packages\\sklearn\\ensemble\\forest.py:453: UserWarning: Some inputs do not have OOB scores. This probably means too few trees were used to compute any reliable oob estimates.\n",
      "  warn(\"Some inputs do not have OOB scores. \"\n",
      "D:\\Anaconda3\\lib\\site-packages\\sklearn\\ensemble\\forest.py:458: RuntimeWarning: invalid value encountered in true_divide\n",
      "  predictions[k].sum(axis=1)[:, np.newaxis])\n"
     ]
    },
    {
     "data": {
      "text/plain": [
       "RandomForestClassifier(bootstrap=True, class_weight='balanced',\n",
       "            criterion='gini', max_depth=None, max_features='auto',\n",
       "            max_leaf_nodes=None, min_impurity_decrease=0.0,\n",
       "            min_impurity_split=None, min_samples_leaf=1,\n",
       "            min_samples_split=2, min_weight_fraction_leaf=0.0,\n",
       "            n_estimators=10, n_jobs=1, oob_score=True, random_state=88,\n",
       "            verbose=0, warm_start=False)"
      ]
     },
     "execution_count": 44,
     "metadata": {},
     "output_type": "execute_result"
    }
   ],
   "source": [
    "rfc = RandomForestClassifier(oob_score=True, class_weight='balanced',  random_state=88)\n",
    "rfc.fit(x_train, y_train)"
   ]
  },
  {
   "cell_type": "code",
   "execution_count": 59,
   "metadata": {},
   "outputs": [
    {
     "data": {
      "text/plain": [
       "0.9937203247051616"
      ]
     },
     "execution_count": 59,
     "metadata": {},
     "output_type": "execute_result"
    }
   ],
   "source": [
    "rfc.score(x_test,y_test)"
   ]
  },
  {
   "cell_type": "code",
   "execution_count": 60,
   "metadata": {},
   "outputs": [],
   "source": [
    "y_pred = rfc.predict(x_test) "
   ]
  },
  {
   "cell_type": "code",
   "execution_count": 61,
   "metadata": {},
   "outputs": [
    {
     "data": {
      "text/plain": [
       "0.9977969835621081"
      ]
     },
     "execution_count": 61,
     "metadata": {},
     "output_type": "execute_result"
    }
   ],
   "source": [
    "precision_score(y_test, y_pred)"
   ]
  },
  {
   "cell_type": "code",
   "execution_count": 62,
   "metadata": {},
   "outputs": [
    {
     "data": {
      "text/plain": [
       "0.9952670723461798"
      ]
     },
     "execution_count": 62,
     "metadata": {},
     "output_type": "execute_result"
    }
   ],
   "source": [
    "recall_score(y_test, y_pred)"
   ]
  },
  {
   "cell_type": "code",
   "execution_count": 63,
   "metadata": {},
   "outputs": [
    {
     "data": {
      "text/plain": [
       "0.9965304222729965"
      ]
     },
     "execution_count": 63,
     "metadata": {},
     "output_type": "execute_result"
    }
   ],
   "source": [
    "f1_score(y_test, y_pred)"
   ]
  },
  {
   "cell_type": "markdown",
   "metadata": {},
   "source": [
    "K-means"
   ]
  },
  {
   "cell_type": "code",
   "execution_count": 64,
   "metadata": {},
   "outputs": [],
   "source": [
    "from sklearn.cluster import KMeans\n",
    "from sklearn.metrics import calinski_harabaz_score  #用calinski_harabaz_score来估计，值越大越好"
   ]
  },
  {
   "cell_type": "code",
   "execution_count": 73,
   "metadata": {},
   "outputs": [],
   "source": [
    "k_means = KMeans(n_clusters=2)\n",
    "y_pred = k_means.fit_predict(x_train)"
   ]
  },
  {
   "cell_type": "code",
   "execution_count": 74,
   "metadata": {},
   "outputs": [
    {
     "data": {
      "text/plain": [
       "3152.5666274956384"
      ]
     },
     "execution_count": 74,
     "metadata": {},
     "output_type": "execute_result"
    }
   ],
   "source": [
    "calinski_harabaz_score(x_train, y_pred)"
   ]
  },
  {
   "cell_type": "code",
   "execution_count": 75,
   "metadata": {},
   "outputs": [],
   "source": [
    "k_means = KMeans(n_clusters=4)\n",
    "y_pred = k_means.fit_predict(x_train)"
   ]
  },
  {
   "cell_type": "code",
   "execution_count": 76,
   "metadata": {},
   "outputs": [
    {
     "data": {
      "text/plain": [
       "2133.8850805455572"
      ]
     },
     "execution_count": 76,
     "metadata": {},
     "output_type": "execute_result"
    }
   ],
   "source": [
    "calinski_harabaz_score(x_train, y_pred)"
   ]
  },
  {
   "cell_type": "markdown",
   "metadata": {},
   "source": [
    "聚类变多时，效果下降"
   ]
  },
  {
   "cell_type": "markdown",
   "metadata": {},
   "source": [
    "## 用Random forest找出可能抄袭新华社文章的报道"
   ]
  },
  {
   "cell_type": "code",
   "execution_count": 77,
   "metadata": {},
   "outputs": [],
   "source": [
    "y_pred = rfc.predict(X) "
   ]
  },
  {
   "cell_type": "code",
   "execution_count": 79,
   "metadata": {},
   "outputs": [
    {
     "data": {
      "text/html": [
       "<div>\n",
       "<style scoped>\n",
       "    .dataframe tbody tr th:only-of-type {\n",
       "        vertical-align: middle;\n",
       "    }\n",
       "\n",
       "    .dataframe tbody tr th {\n",
       "        vertical-align: top;\n",
       "    }\n",
       "\n",
       "    .dataframe thead th {\n",
       "        text-align: right;\n",
       "    }\n",
       "</style>\n",
       "<table border=\"1\" class=\"dataframe\">\n",
       "  <thead>\n",
       "    <tr style=\"text-align: right;\">\n",
       "      <th></th>\n",
       "      <th>y</th>\n",
       "      <th>content</th>\n",
       "    </tr>\n",
       "  </thead>\n",
       "  <tbody>\n",
       "    <tr>\n",
       "      <th>0</th>\n",
       "      <td>0</td>\n",
       "      <td>此外，自本周（6月12日）起，除小米手机6等15款机型外，其余机型已暂停更新发布（含开发版/...</td>\n",
       "    </tr>\n",
       "    <tr>\n",
       "      <th>1</th>\n",
       "      <td>0</td>\n",
       "      <td>骁龙835作为唯一通过Windows 10桌面平台认证的ARM处理器，高通强调，不会因为只考...</td>\n",
       "    </tr>\n",
       "    <tr>\n",
       "      <th>2</th>\n",
       "      <td>0</td>\n",
       "      <td>此前的一加3T搭载的是3400mAh电池，DashCharge快充规格为5V/4A。\\r\\n...</td>\n",
       "    </tr>\n",
       "    <tr>\n",
       "      <th>3</th>\n",
       "      <td>1</td>\n",
       "      <td>这是6月18日在葡萄牙中部大佩德罗冈地区拍摄的被森林大火烧毁的汽车。新华社记者张立云摄\\r\\n</td>\n",
       "    </tr>\n",
       "    <tr>\n",
       "      <th>4</th>\n",
       "      <td>0</td>\n",
       "      <td>（原标题：44岁女子跑深圳约会网友被拒，暴雨中裸身奔走……）\\r\\n@深圳交警微博称：昨日清...</td>\n",
       "    </tr>\n",
       "  </tbody>\n",
       "</table>\n",
       "</div>"
      ],
      "text/plain": [
       "   y                                            content\n",
       "0  0  此外，自本周（6月12日）起，除小米手机6等15款机型外，其余机型已暂停更新发布（含开发版/...\n",
       "1  0  骁龙835作为唯一通过Windows 10桌面平台认证的ARM处理器，高通强调，不会因为只考...\n",
       "2  0  此前的一加3T搭载的是3400mAh电池，DashCharge快充规格为5V/4A。\\r\\n...\n",
       "3  1    这是6月18日在葡萄牙中部大佩德罗冈地区拍摄的被森林大火烧毁的汽车。新华社记者张立云摄\\r\\n\n",
       "4  0  （原标题：44岁女子跑深圳约会网友被拒，暴雨中裸身奔走……）\\r\\n@深圳交警微博称：昨日清..."
      ]
     },
     "execution_count": 79,
     "metadata": {},
     "output_type": "execute_result"
    }
   ],
   "source": [
    "news_list.head()"
   ]
  },
  {
   "cell_type": "code",
   "execution_count": 80,
   "metadata": {},
   "outputs": [],
   "source": [
    "news_list[\"y_predict\"] = y_pred"
   ]
  },
  {
   "cell_type": "code",
   "execution_count": 81,
   "metadata": {},
   "outputs": [
    {
     "data": {
      "text/html": [
       "<div>\n",
       "<style scoped>\n",
       "    .dataframe tbody tr th:only-of-type {\n",
       "        vertical-align: middle;\n",
       "    }\n",
       "\n",
       "    .dataframe tbody tr th {\n",
       "        vertical-align: top;\n",
       "    }\n",
       "\n",
       "    .dataframe thead th {\n",
       "        text-align: right;\n",
       "    }\n",
       "</style>\n",
       "<table border=\"1\" class=\"dataframe\">\n",
       "  <thead>\n",
       "    <tr style=\"text-align: right;\">\n",
       "      <th></th>\n",
       "      <th>y</th>\n",
       "      <th>content</th>\n",
       "      <th>y_predict</th>\n",
       "    </tr>\n",
       "  </thead>\n",
       "  <tbody>\n",
       "    <tr>\n",
       "      <th>0</th>\n",
       "      <td>0</td>\n",
       "      <td>此外，自本周（6月12日）起，除小米手机6等15款机型外，其余机型已暂停更新发布（含开发版/...</td>\n",
       "      <td>0</td>\n",
       "    </tr>\n",
       "    <tr>\n",
       "      <th>1</th>\n",
       "      <td>0</td>\n",
       "      <td>骁龙835作为唯一通过Windows 10桌面平台认证的ARM处理器，高通强调，不会因为只考...</td>\n",
       "      <td>0</td>\n",
       "    </tr>\n",
       "    <tr>\n",
       "      <th>2</th>\n",
       "      <td>0</td>\n",
       "      <td>此前的一加3T搭载的是3400mAh电池，DashCharge快充规格为5V/4A。\\r\\n...</td>\n",
       "      <td>0</td>\n",
       "    </tr>\n",
       "    <tr>\n",
       "      <th>3</th>\n",
       "      <td>1</td>\n",
       "      <td>这是6月18日在葡萄牙中部大佩德罗冈地区拍摄的被森林大火烧毁的汽车。新华社记者张立云摄\\r\\n</td>\n",
       "      <td>1</td>\n",
       "    </tr>\n",
       "    <tr>\n",
       "      <th>4</th>\n",
       "      <td>0</td>\n",
       "      <td>（原标题：44岁女子跑深圳约会网友被拒，暴雨中裸身奔走……）\\r\\n@深圳交警微博称：昨日清...</td>\n",
       "      <td>0</td>\n",
       "    </tr>\n",
       "  </tbody>\n",
       "</table>\n",
       "</div>"
      ],
      "text/plain": [
       "   y                                            content  y_predict\n",
       "0  0  此外，自本周（6月12日）起，除小米手机6等15款机型外，其余机型已暂停更新发布（含开发版/...          0\n",
       "1  0  骁龙835作为唯一通过Windows 10桌面平台认证的ARM处理器，高通强调，不会因为只考...          0\n",
       "2  0  此前的一加3T搭载的是3400mAh电池，DashCharge快充规格为5V/4A。\\r\\n...          0\n",
       "3  1    这是6月18日在葡萄牙中部大佩德罗冈地区拍摄的被森林大火烧毁的汽车。新华社记者张立云摄\\r\\n          1\n",
       "4  0  （原标题：44岁女子跑深圳约会网友被拒，暴雨中裸身奔走……）\\r\\n@深圳交警微博称：昨日清...          0"
      ]
     },
     "execution_count": 81,
     "metadata": {},
     "output_type": "execute_result"
    }
   ],
   "source": [
    "news_list.head()"
   ]
  },
  {
   "cell_type": "code",
   "execution_count": 82,
   "metadata": {},
   "outputs": [],
   "source": [
    "news_copy_result = news_list.loc[(news_list.y == 0)& (news_list.y_predict) == 1]"
   ]
  },
  {
   "cell_type": "code",
   "execution_count": 83,
   "metadata": {},
   "outputs": [
    {
     "data": {
      "text/html": [
       "<div>\n",
       "<style scoped>\n",
       "    .dataframe tbody tr th:only-of-type {\n",
       "        vertical-align: middle;\n",
       "    }\n",
       "\n",
       "    .dataframe tbody tr th {\n",
       "        vertical-align: top;\n",
       "    }\n",
       "\n",
       "    .dataframe thead th {\n",
       "        text-align: right;\n",
       "    }\n",
       "</style>\n",
       "<table border=\"1\" class=\"dataframe\">\n",
       "  <thead>\n",
       "    <tr style=\"text-align: right;\">\n",
       "      <th></th>\n",
       "      <th>y</th>\n",
       "      <th>content</th>\n",
       "      <th>y_predict</th>\n",
       "    </tr>\n",
       "  </thead>\n",
       "  <tbody>\n",
       "    <tr>\n",
       "      <th>78</th>\n",
       "      <td>0</td>\n",
       "      <td>央广网合肥6月19日消息（记者王利）6月19日上午6时，由公安部消防局组织的中部地区跨区域地...</td>\n",
       "      <td>1</td>\n",
       "    </tr>\n",
       "    <tr>\n",
       "      <th>595</th>\n",
       "      <td>0</td>\n",
       "      <td>由北京市旅游发展委员委、北京市科学技术委员会联合主办的2016年京津冀科普旅游活动启动仪...</td>\n",
       "      <td>1</td>\n",
       "    </tr>\n",
       "    <tr>\n",
       "      <th>689</th>\n",
       "      <td>0</td>\n",
       "      <td>为期9天的珠穆朗玛峰北坡“清洁行动”5月6日启动，清洁范围将在北坡大本营海拔5200米至...</td>\n",
       "      <td>1</td>\n",
       "    </tr>\n",
       "    <tr>\n",
       "      <th>722</th>\n",
       "      <td>0</td>\n",
       "      <td>点击图片进入下一页\\r\\n图为主炮对海射击。林健摄\\r\\n央广网北京6月23日消息 (林健 ...</td>\n",
       "      <td>1</td>\n",
       "    </tr>\n",
       "    <tr>\n",
       "      <th>941</th>\n",
       "      <td>0</td>\n",
       "      <td>（原标题：提醒在哥伦比亚中国公民注意安全）\\r\\n当地时间6月17日下午5时10分许，哥伦比...</td>\n",
       "      <td>1</td>\n",
       "    </tr>\n",
       "    <tr>\n",
       "      <th>1176</th>\n",
       "      <td>0</td>\n",
       "      <td>（原标题：山东龙口放火案罪犯徐孝福今日被执行死刑）\\r\\n@公正烟台消息，山东龙口放火案罪犯...</td>\n",
       "      <td>1</td>\n",
       "    </tr>\n",
       "    <tr>\n",
       "      <th>1187</th>\n",
       "      <td>0</td>\n",
       "      <td>7月1日，香港特别行政区将迎来成立和回归20周年。香港中华总商会会长蔡冠深在接受中国经济网记...</td>\n",
       "      <td>1</td>\n",
       "    </tr>\n",
       "    <tr>\n",
       "      <th>1559</th>\n",
       "      <td>0</td>\n",
       "      <td>中国证券网讯 财政部１３日发布消息称，经国务院批准，２０１７年财政部将在境外发行１４０亿...</td>\n",
       "      <td>1</td>\n",
       "    </tr>\n",
       "  </tbody>\n",
       "</table>\n",
       "</div>"
      ],
      "text/plain": [
       "      y                                            content  y_predict\n",
       "78    0  央广网合肥6月19日消息（记者王利）6月19日上午6时，由公安部消防局组织的中部地区跨区域地...          1\n",
       "595   0  　　由北京市旅游发展委员委、北京市科学技术委员会联合主办的2016年京津冀科普旅游活动启动仪...          1\n",
       "689   0  　　为期9天的珠穆朗玛峰北坡“清洁行动”5月6日启动，清洁范围将在北坡大本营海拔5200米至...          1\n",
       "722   0  点击图片进入下一页\\r\\n图为主炮对海射击。林健摄\\r\\n央广网北京6月23日消息 (林健 ...          1\n",
       "941   0  （原标题：提醒在哥伦比亚中国公民注意安全）\\r\\n当地时间6月17日下午5时10分许，哥伦比...          1\n",
       "1176  0  （原标题：山东龙口放火案罪犯徐孝福今日被执行死刑）\\r\\n@公正烟台消息，山东龙口放火案罪犯...          1\n",
       "1187  0  7月1日，香港特别行政区将迎来成立和回归20周年。香港中华总商会会长蔡冠深在接受中国经济网记...          1\n",
       "1559  0  　　中国证券网讯 财政部１３日发布消息称，经国务院批准，２０１７年财政部将在境外发行１４０亿...          1"
      ]
     },
     "execution_count": 83,
     "metadata": {},
     "output_type": "execute_result"
    }
   ],
   "source": [
    "news_copy_result.head(8)"
   ]
  },
  {
   "cell_type": "markdown",
   "metadata": {},
   "source": [
    "# 比较优缺点:"
   ]
  },
  {
   "cell_type": "markdown",
   "metadata": {},
   "source": [
    "### Linear Regression:"
   ]
  },
  {
   "cell_type": "markdown",
   "metadata": {},
   "source": [
    "  优点:把数据拟合成线性关系,可以利用机器学习不断修正达到比较准确的线性函数值,好算。"
   ]
  },
  {
   "cell_type": "markdown",
   "metadata": {},
   "source": [
    "缺点:如果给的数据非常复杂,不适用线性函数时,效果会非常差."
   ]
  },
  {
   "cell_type": "markdown",
   "metadata": {},
   "source": [
    "##  Logistic Regression"
   ]
  },
  {
   "cell_type": "markdown",
   "metadata": {},
   "source": [
    "优点:计算快速,简便.需要调的参数很少,效果目前看来比较好."
   ]
  },
  {
   "cell_type": "markdown",
   "metadata": {},
   "source": [
    "缺点:无法得到哪些feature会影响结果."
   ]
  },
  {
   "cell_type": "markdown",
   "metadata": {},
   "source": [
    "# KNN"
   ]
  },
  {
   "cell_type": "markdown",
   "metadata": {},
   "source": [
    "优点:很容易解释原理,方法也不复杂,感觉是分类的一种变形."
   ]
  },
  {
   "cell_type": "markdown",
   "metadata": {},
   "source": [
    "缺点:计算量大,耗时久,如果分组不分好的话很容易爆内存无法运行."
   ]
  },
  {
   "cell_type": "markdown",
   "metadata": {},
   "source": [
    "# Bayes"
   ]
  },
  {
   "cell_type": "markdown",
   "metadata": {},
   "source": [
    "优点:有牢固的概率论体系支撑,也有固定的公式去计算.计算起来较快,对于一些不在考虑范围内的值也可以根据公式把它忽略,从而不会使结果受到较大影响."
   ]
  },
  {
   "cell_type": "markdown",
   "metadata": {},
   "source": [
    "缺点:如果是训练出来预测结果的话,如果各个条件相关程度很高,那么Bayes得到的结果就会不准,因为它的前提就是各个小事件之间是相互独立的,若相关性很强,则概率公式就不成立了."
   ]
  },
  {
   "cell_type": "code",
   "execution_count": null,
   "metadata": {},
   "outputs": [],
   "source": []
  }
 ],
 "metadata": {
  "kernelspec": {
   "display_name": "Python 3",
   "language": "python",
   "name": "python3"
  },
  "language_info": {
   "codemirror_mode": {
    "name": "ipython",
    "version": 3
   },
   "file_extension": ".py",
   "mimetype": "text/x-python",
   "name": "python",
   "nbconvert_exporter": "python",
   "pygments_lexer": "ipython3",
   "version": "3.6.5"
  }
 },
 "nbformat": 4,
 "nbformat_minor": 2
}
